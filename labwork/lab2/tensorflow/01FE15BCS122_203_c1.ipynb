{
 "cells": [
  {
   "cell_type": "code",
   "execution_count": 1,
   "metadata": {},
   "outputs": [
    {
     "name": "stdout",
     "output_type": "stream",
     "text": [
      "h0 values: 0.5\n",
      "1.0\n",
      "Cost function: -inf\n",
      "After 500 epoch values:\n",
      "theta 1 :  1.04169\n",
      "theta 0 :  0.0339648\n"
     ]
    }
   ],
   "source": [
    "import tensorflow as tf\n",
    "import matplotlib.pyplot as plt\n",
    "\n",
    "a = tf.constant([15.0,17.0,18.0,19.0,20.0,12.0,15.0],name ='x')\n",
    "b = tf.constant([15.0,18.0,19.0,20.0,21.0,13.0,15.0],name='y')\n",
    "training_epoch = 500\n",
    "learning_rate = 0.005\n",
    "t1=0.0\n",
    "t0=0.0\n",
    "\n",
    "h0=tf.divide(1.0,tf.add(1.0,tf.exp(-tf.add(t0,tf.reduce_sum(tf.multiply(t1,a))))))\n",
    "model=tf.global_variables_initializer()\n",
    "sess = tf.Session() \n",
    "print(\"h0 values:\",sess.run(h0))\n",
    "c=tf.cond(h0<0.5,lambda:0.00,lambda:1.00)\n",
    "print(sess.run(c))\n",
    "\n",
    "\n",
    "#cost function\n",
    "v=tf.multiply(b,tf.log(c))\n",
    "n=tf.subtract(1.0,b)\n",
    "m=tf.log(tf.subtract(1.0,c))\n",
    "m1=tf.multiply(n,m)\n",
    "m2=tf.reduce_sum(tf.subtract(-v,m1))\n",
    "print(\"Cost function:\",sess.run(m2))\n",
    "\n",
    "for epoch in range(training_epoch):\n",
    "    \n",
    "                                #if error is greater than threshold value then stop the iteration\n",
    "    s1=tf.reduce_sum(tf.multiply(tf.subtract(tf.add(tf.multiply(a,t1),t0),b),a))\n",
    "    s0=tf.reduce_sum(tf.subtract(tf.add(tf.multiply(a,t1),t0),b))\n",
    "    tn1 = tf.subtract(t1,tf.multiply(learning_rate,tf.divide(s1,tf.cast(tf.size(a),tf.float32))))\n",
    "    tn0=  tf.subtract(t0,tf.multiply(learning_rate,tf.divide(s0,tf.cast(tf.size(a),tf.float32))))\n",
    "    t1=tn1\n",
    "    t0=tn0\n",
    "    model=tf.global_variables_initializer()\n",
    "sess = tf.Session()\n",
    "print(\"After 500 epoch values:\")\n",
    "print(\"theta 1 : \",sess.run(tn1))\n",
    "print(\"theta 0 : \",sess.run(tn0))\n"
   ]
  },
  {
   "cell_type": "code",
   "execution_count": null,
   "metadata": {
    "collapsed": true
   },
   "outputs": [],
   "source": []
  }
 ],
 "metadata": {
  "kernelspec": {
   "display_name": "Python 3",
   "language": "python",
   "name": "python3"
  },
  "language_info": {
   "codemirror_mode": {
    "name": "ipython",
    "version": 3
   },
   "file_extension": ".py",
   "mimetype": "text/x-python",
   "name": "python",
   "nbconvert_exporter": "python",
   "pygments_lexer": "ipython3",
   "version": "3.6.1"
  }
 },
 "nbformat": 4,
 "nbformat_minor": 2
}
