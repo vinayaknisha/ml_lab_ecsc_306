{
 "cells": [
  {
   "cell_type": "code",
   "execution_count": 1,
   "metadata": {},
   "outputs": [
    {
     "name": "stdout",
     "output_type": "stream",
     "text": [
      "the mean of x\n",
      "[ 4.58571386]\n",
      "the mean of y\n",
      "[ 4.98428583]\n",
      "the variance of x \n",
      "2.24122\n",
      "the cov\n",
      "-1.14251\n",
      "m\n",
      "-0.509771\n",
      "c\n"
     ]
    },
    {
     "ename": "NameError",
     "evalue": "name 'c' is not defined",
     "output_type": "error",
     "traceback": [
      "\u001b[0;31m---------------------------------------------------------------------------\u001b[0m",
      "\u001b[0;31mNameError\u001b[0m                                 Traceback (most recent call last)",
      "\u001b[0;32m<ipython-input-1-2de8519ce2aa>\u001b[0m in \u001b[0;36m<module>\u001b[0;34m()\u001b[0m\n\u001b[1;32m     42\u001b[0m \u001b[0msess\u001b[0m\u001b[0;34m=\u001b[0m\u001b[0mtf\u001b[0m\u001b[0;34m.\u001b[0m\u001b[0mSession\u001b[0m\u001b[0;34m(\u001b[0m\u001b[0;34m)\u001b[0m\u001b[0;34m\u001b[0m\u001b[0m\n\u001b[1;32m     43\u001b[0m \u001b[0mprint\u001b[0m\u001b[0;34m(\u001b[0m\u001b[0;34m\"c\"\u001b[0m\u001b[0;34m)\u001b[0m\u001b[0;34m\u001b[0m\u001b[0m\n\u001b[0;32m---> 44\u001b[0;31m \u001b[0mprint\u001b[0m\u001b[0;34m(\u001b[0m\u001b[0msess\u001b[0m\u001b[0;34m.\u001b[0m\u001b[0mrun\u001b[0m\u001b[0;34m(\u001b[0m\u001b[0mc\u001b[0m\u001b[0;34m)\u001b[0m\u001b[0;34m)\u001b[0m\u001b[0;34m\u001b[0m\u001b[0m\n\u001b[0m",
      "\u001b[0;31mNameError\u001b[0m: name 'c' is not defined"
     ]
    }
   ],
   "source": [
    "import tensorflow as tf\n",
    "x=tf.constant([5.5,3.3,5.9,6.9,4.0,2.2,4.3],shape=[1,7])\n",
    "y=tf.constant([4.3,2.2,3.3,5.0,9.0,7.89,3.2],shape=[1,7])\n",
    "\n",
    "\n",
    "mean_x=tf.reduce_mean(x,1)\n",
    "sess=tf.Session()\n",
    "print(\"the mean of x\")\n",
    "print(sess.run(mean_x))\n",
    "\n",
    "\n",
    "mean_y=tf.reduce_mean(y,1)\n",
    "sess=tf.Session()\n",
    "print(\"the mean of y\")\n",
    "print(sess.run(mean_y))\n",
    "\n",
    "print(\"the variance of x \")\n",
    "v=tf.subtract(x,mean_x)\n",
    "v1=tf.square(v)\n",
    "var_x=tf.reduce_mean(v1)\n",
    "sess=tf.Session()\n",
    "print(sess.run(var_x))\n",
    "\n",
    "print(\"the cov\")\n",
    "c1=tf.subtract(x,mean_x)\n",
    "c2=tf.subtract(y,mean_y)\n",
    "d=tf.multiply(c1,c2)\n",
    "cov=tf.reduce_mean(d)\n",
    "sess=tf.Session()\n",
    "print(sess.run(cov))\n",
    "\n",
    "m=tf.divide(cov,var_x)\n",
    "sess=tf.Session\n",
    "\n",
    "\n",
    "m=tf.divide(cov,var_x)\n",
    "sess=tf.Session()\n",
    "print(\"m\")\n",
    "print(sess.run(m))\n",
    "p=tf.multiply(m,mean_x)\n",
    "q=tf.subtract(mean_y,p)\n",
    "sess=tf.Session()\n",
    "print(\"c\")\n",
    "print(sess.run(c))"
   ]
  },
  {
   "cell_type": "code",
   "execution_count": null,
   "metadata": {
    "collapsed": true
   },
   "outputs": [],
   "source": []
  }
 ],
 "metadata": {
  "kernelspec": {
   "display_name": "Python 3",
   "language": "python",
   "name": "python3"
  },
  "language_info": {
   "codemirror_mode": {
    "name": "ipython",
    "version": 3
   },
   "file_extension": ".py",
   "mimetype": "text/x-python",
   "name": "python",
   "nbconvert_exporter": "python",
   "pygments_lexer": "ipython3",
   "version": "3.6.1"
  }
 },
 "nbformat": 4,
 "nbformat_minor": 2
}
