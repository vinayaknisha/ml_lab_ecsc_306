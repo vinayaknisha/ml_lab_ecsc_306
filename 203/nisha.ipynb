{
 "cells": [
  {
   "cell_type": "code",
   "execution_count": 8,
   "metadata": {},
   "outputs": [
    {
     "name": "stdout",
     "output_type": "stream",
     "text": [
      "b'value of m:' 1.00345\n",
      "b'value of c:' 1.23901\n",
      "b'Actual values of Y' [  2.99000001   6.78000021  10.01000023   8.5         11.10999966  25.        ]\n",
      "b'predicted values of Y' [  3.135535     6.91854858  10.15969849   8.26317406  10.83201218\n",
      "  25.08102798]\n",
      "Root mean square error: 0.183809\n"
     ]
    },
    {
     "data": {
      "image/png": "[encoded data removed]",
      "text/plain": [
       "<matplotlib.figure.Figure at 0x7f03941abcf8>"
      ]
     },
     "metadata": {},
     "output_type": "display_data"
    }
   ],
   "source": [
    "import tensorflow as tf\n",
    "import matplotlib.pyplot as plt\n",
    "\n",
    "X=tf.constant([1.89,5.66,8.89,7.00,9.56,23.76])\n",
    "Y=tf.constant([2.99,6.78,10.01,8.50,11.11,25.00])\n",
    "\n",
    "mn=tf.constant(\"value of m:\")\n",
    "mc=tf.constant(\"value of c:\")\n",
    "ay=tf.constant(\"Actual values of Y\")\n",
    "py=tf.constant(\"predicted values of Y\")\n",
    "\n",
    "\n",
    "mnx = tf.reduce_mean(X)\n",
    "mny = tf.reduce_mean(Y)\n",
    "\n",
    "\n",
    "vrx=tf.Variable(X-mnx)\n",
    "vry=tf.Variable(Y-mny)\n",
    "l=tf.size(X)\n",
    "a=l-1\n",
    "p=tf.cast(a,tf.float32)\n",
    "\n",
    "V=tf.multiply(vrx,vry)\n",
    "cm=tf.reduce_sum(V)\n",
    "CV=tf.div(cm,p)\n",
    "\n",
    "vs=tf.square(vrx)\n",
    "sn=tf.reduce_sum(vs)\n",
    "sm=tf.div(sn,p)\n",
    "\n",
    "\n",
    "m=tf.divide(CV,sm)\n",
    "c=mny-(mnx*m)\n",
    "\n",
    "\n",
    "pr=tf.multiply(X,m)\n",
    "PRY=tf.add(pr,c)     \n",
    "\n",
    "\n",
    "rmer=tf.sqrt(tf.reduce_mean(tf.squared_difference(Y,PRY)))\n",
    "    \n",
    "initial = tf.global_variables_initializer()\n",
    "session = tf.Session()\n",
    "session.run(initial)\n",
    " \n",
    "\n",
    "print(session.run(mn),session.run(m))\n",
    "print(session.run(mc),session.run(c))\n",
    "\n",
    "print(session.run(ay),session.run(Y))\n",
    "print(session.run(py),session.run(PRY))\n",
    "print(\"Root mean square error:\",session.run(rmer))\n",
    "\n",
    "plt.plot(session.run(Y),session.run(PRY),label='ay vs py')\n",
    "plt.legend()\n",
    "plt.show()\n"
   ]
  },
  {
   "cell_type": "code",
   "execution_count": null,
   "metadata": {
    "collapsed": true
   },
   "outputs": [],
   "source": []
  }
 ],
 "metadata": {
  "kernelspec": {
   "display_name": "Python 3",
   "language": "python",
   "name": "python3"
  },
  "language_info": {
   "codemirror_mode": {
    "name": "ipython",
    "version": 3
   },
   "file_extension": ".py",
   "mimetype": "text/x-python",
   "name": "python",
   "nbconvert_exporter": "python",
   "pygments_lexer": "ipython3",
   "version": "3.6.1"
  }
 },
 "nbformat": 4,
 "nbformat_minor": 2
}
