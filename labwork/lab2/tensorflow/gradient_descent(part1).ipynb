{
 "cells": [
  {
   "cell_type": "code",
   "execution_count": 2,
   "metadata": {},
   "outputs": [
    {
     "name": "stdout",
     "output_type": "stream",
     "text": [
      "After 500 epoch values:\n",
      "theta 1 :  0.995867\n",
      "theta 0 :  0.781559\n"
     ]
    }
   ],
   "source": [
    "### ----part 1------\n",
    "import tensorflow as tf\n",
    "import matplotlib.pyplot as plt\n",
    "\n",
    "a = tf.constant([11.0,12.0,13.0,15.0,16.0,13.0,17.0],name ='x')\n",
    "b = tf.constant([17.0,11.0,12.0,15.0,14.0,19.0,16.0],name='y')\n",
    "training_epoch = 500\n",
    "learning_rate = 0.005\n",
    "t1=0.0\n",
    "t0=0.0\n",
    "for epoch in range(training_epoch):\n",
    "    #p=tf.multiply(training_epoch,(i+1))\n",
    "   \n",
    "    s1=tf.reduce_sum(tf.multiply(tf.subtract(tf.add(tf.multiply(a,t1),t0),b),a))\n",
    "    s0=tf.reduce_sum(tf.subtract(tf.add(tf.multiply(a,t1),t0),b))\n",
    "    tn1 = tf.subtract(t1,tf.multiply(learning_rate,tf.divide(s1,tf.cast(tf.size(a),tf.float32))))\n",
    "    tn0=  tf.subtract(t0,tf.multiply(learning_rate,tf.divide(s0,tf.cast(tf.size(a),tf.float32))))\n",
    "    t1=tn1\n",
    "    t0=tn0\n",
    "    model=tf.global_variables_initializer()\n",
    "    \n",
    "sess = tf.Session()        \n",
    "print(\"After 500 epoch values:\")\n",
    "print(\"theta 1 : \",sess.run(tn1))\n",
    "print(\"theta 0 : \",sess.run(tn0))\n"
   ]
  },
  {
   "cell_type": "code",
   "execution_count": null,
   "metadata": {
    "collapsed": true
   },
   "outputs": [],
   "source": []
  }
 ],
 "metadata": {
  "kernelspec": {
   "display_name": "Python 3",
   "language": "python",
   "name": "python3"
  },
  "language_info": {
   "codemirror_mode": {
    "name": "ipython",
    "version": 3
   },
   "file_extension": ".py",
   "mimetype": "text/x-python",
   "name": "python",
   "nbconvert_exporter": "python",
   "pygments_lexer": "ipython3",
   "version": "3.6.1"
  }
 },
 "nbformat": 4,
 "nbformat_minor": 2
}
